{
 "cells": [
  {
   "cell_type": "markdown",
   "id": "ce603263",
   "metadata": {},
   "source": [
    "solo hay que cambiar el tipo de connexion"
   ]
  },
  {
   "cell_type": "code",
   "execution_count": null,
   "id": "4ece592e",
   "metadata": {},
   "outputs": [],
   "source": [
    "\n",
    "import sqlite3\n",
    "\n",
    "# Conexión a SQLite (crea el archivo si no existe)\n",
    "conn = sqlite3.connect(\"mi_base.db\")\n",
    "cursor = conn.cursor()\n",
    "\n",
    "# Supongamos que tu SQL es un INSERT con dos columnas\n",
    "sql = \"INSERT INTO usuarios (Nombre, Email) VALUES (?, ?)\"\n",
    "\n",
    "# Lista de registros desde un DataFrame\n",
    "lista_registros = df_12[['Nombre', 'Email']].values.tolist()\n",
    "\n",
    "# (Opcional) Para visualizar lo que se insertará:\n",
    "for record in lista_registros:\n",
    "    print(sql.replace(\"?\", \"'{}'\").format(*record))\n",
    "\n",
    "# Ejecutar todos los inserts\n",
    "cursor.executemany(sql, lista_registros)\n",
    "\n",
    "# Guardar cambios y cerrar conexión\n",
    "conn.commit()\n",
    "conn.close()\n"
   ]
  }
 ],
 "metadata": {
  "language_info": {
   "name": "python"
  }
 },
 "nbformat": 4,
 "nbformat_minor": 5
}
