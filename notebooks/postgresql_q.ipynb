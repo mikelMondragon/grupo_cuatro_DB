{
 "cells": [
  {
   "cell_type": "code",
   "execution_count": null,
   "id": "08363284",
   "metadata": {},
   "outputs": [],
   "source": [
    "import psycopg2\n",
    "\n",
    "# Conexión a PostgreSQL\n",
    "conn = psycopg2.connect(\n",
    "    dbname=\"nombre_de_tu_bd\",\n",
    "    user=\"tu_usuario\",\n",
    "    password=\"tu_contraseña\",\n",
    "    host=\"localhost\",\n",
    "    port=\"5432\"  # o el puerto que uses\n",
    ")\n",
    "\n",
    "cursor = conn.cursor()\n",
    "\n",
    "# Tu consulta SQL (PostgreSQL usa %s como placeholder)\n",
    "sql = \"INSERT INTO usuarios (Nombre, Email) VALUES (%s, %s)\"\n",
    "\n",
    "# Lista de registros desde un DataFrame\n",
    "lista_registros = df_12[['Nombre', 'Email']].values.tolist()\n",
    "\n",
    "# (Opcional) Ver cómo quedaría cada SQL para revisar\n",
    "for record in lista_registros:\n",
    "    print(sql.replace(\"%s\", \"'{}'\").format(*record))\n",
    "\n",
    "# Ejecutar múltiples inserts de una sola vez\n",
    "cursor.executemany(sql, lista_registros)\n",
    "\n",
    "# Confirmar los cambios y cerrar conexión\n",
    "conn.commit()\n",
    "conn.close()\n"
   ]
  }
 ],
 "metadata": {
  "language_info": {
   "name": "python"
  }
 },
 "nbformat": 4,
 "nbformat_minor": 5
}
